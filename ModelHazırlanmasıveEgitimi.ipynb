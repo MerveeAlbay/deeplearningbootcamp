{
  "nbformat": 4,
  "nbformat_minor": 0,
  "metadata": {
    "colab": {
      "provenance": []
    },
    "kernelspec": {
      "name": "python3",
      "display_name": "Python 3"
    },
    "language_info": {
      "name": "python"
    },
    "accelerator": "GPU"
  },
  "cells": [
    {
      "cell_type": "code",
      "execution_count": 81,
      "metadata": {
        "id": "Z4Pn3ZNFbgNK"
      },
      "outputs": [],
      "source": [
        "import numpy as np\n",
        "import os\n",
        "import matplotlib.pyplot as plt\n",
        "import tensorflow as tf\n",
        "import pandas as pd"
      ]
    },
    {
      "cell_type": "code",
      "source": [
        "X_train = np.load(\"/content/drive/MyDrive/verisetleri/X_train.npy\")\n",
        "X_test = np.load(\"/content/drive/MyDrive/verisetleri/X_test.npy\")\n",
        "X_val = np.load(\"/content/drive/MyDrive/verisetleri/X_val.npy\")\n",
        "y_train = np.load(\"/content/drive/MyDrive/verisetleri/y_train.npy\")\n",
        "y_test = np.load(\"/content/drive/MyDrive/verisetleri/y_test.npy\")\n",
        "y_val = np.load(\"/content/drive/MyDrive/verisetleri/y_val.npy\")"
      ],
      "metadata": {
        "id": "glkf-3wSbyiK"
      },
      "execution_count": 82,
      "outputs": []
    },
    {
      "cell_type": "code",
      "source": [
        "X_train[1].shape"
      ],
      "metadata": {
        "colab": {
          "base_uri": "https://localhost:8080/"
        },
        "id": "425ZtwUVcwpl",
        "outputId": "05504ed7-cf9e-4568-a6bf-d550d61b45b4"
      },
      "execution_count": 83,
      "outputs": [
        {
          "output_type": "execute_result",
          "data": {
            "text/plain": [
              "(128, 128, 1)"
            ]
          },
          "metadata": {},
          "execution_count": 83
        }
      ]
    },
    {
      "cell_type": "code",
      "source": [
        "#Model oluşturulması\n",
        "\n",
        "model = tf.keras.Sequential()"
      ],
      "metadata": {
        "id": "s4125tDYc2_N"
      },
      "execution_count": 84,
      "outputs": []
    },
    {
      "cell_type": "code",
      "source": [
        "# Convolution and max pooling layer\n",
        "model.add(tf.keras.layers.Conv2D(32,\n",
        "                                 kernel_size = (3,3),\n",
        "                                 strides=(1,1),\n",
        "                                 padding=\"same\",\n",
        "                                 activation=\"relu\",\n",
        "                                 input_shape = (128,128,1)))\n",
        "model.add(tf.keras.layers.MaxPool2D((2,2)))\n",
        "\n",
        "model.add(tf.keras.layers.Conv2D(64,\n",
        "                                 kernel_size=(3,3),\n",
        "                                 strides=(1,1),\n",
        "                                 padding = \"same\",\n",
        "                                 activation=\"relu\"))\n",
        "model.add(tf.keras.layers.MaxPooling2D((2,2)))\n",
        "\n",
        "model.add(tf.keras.layers.Conv2D(64,\n",
        "                                 kernel_size=(3,3),\n",
        "                                 strides=(1,1),\n",
        "                                 padding = \"same\",\n",
        "                                 activation=\"relu\"))"
      ],
      "metadata": {
        "id": "FkRUq0r_dB0v"
      },
      "execution_count": 85,
      "outputs": []
    },
    {
      "cell_type": "code",
      "source": [
        "# Flatten the convolution layer\n",
        "model.add(tf.keras.layers.Flatten())"
      ],
      "metadata": {
        "id": "ZgTRsGvwduMp"
      },
      "execution_count": 86,
      "outputs": []
    },
    {
      "cell_type": "code",
      "source": [
        "# Dense layer and dropout layer\n",
        "model.add(tf.keras.layers.Dense(64,activation=\"relu\"))\n",
        "model.add(tf.keras.layers.Dropout(0.5))"
      ],
      "metadata": {
        "id": "dMuKQk__dgII"
      },
      "execution_count": 87,
      "outputs": []
    },
    {
      "cell_type": "code",
      "source": [
        "# Add the output layer\n",
        "model.add(tf.keras.layers.Dense(10,activation=\"softmax\"))"
      ],
      "metadata": {
        "id": "yE3f3o0deKKJ"
      },
      "execution_count": 88,
      "outputs": []
    },
    {
      "cell_type": "code",
      "source": [
        "model.summary()"
      ],
      "metadata": {
        "colab": {
          "base_uri": "https://localhost:8080/"
        },
        "id": "bVQ4M_s0ejhu",
        "outputId": "9afa3145-e6fc-40de-ebfd-2ad990945d05"
      },
      "execution_count": 89,
      "outputs": [
        {
          "output_type": "stream",
          "name": "stdout",
          "text": [
            "Model: \"sequential_7\"\n",
            "_________________________________________________________________\n",
            " Layer (type)                Output Shape              Param #   \n",
            "=================================================================\n",
            " conv2d_25 (Conv2D)          (None, 128, 128, 32)      320       \n",
            "                                                                 \n",
            " max_pooling2d_18 (MaxPoolin  (None, 64, 64, 32)       0         \n",
            " g2D)                                                            \n",
            "                                                                 \n",
            " conv2d_26 (Conv2D)          (None, 64, 64, 64)        18496     \n",
            "                                                                 \n",
            " max_pooling2d_19 (MaxPoolin  (None, 32, 32, 64)       0         \n",
            " g2D)                                                            \n",
            "                                                                 \n",
            " conv2d_27 (Conv2D)          (None, 32, 32, 64)        36928     \n",
            "                                                                 \n",
            " flatten_7 (Flatten)         (None, 65536)             0         \n",
            "                                                                 \n",
            " dense_19 (Dense)            (None, 64)                4194368   \n",
            "                                                                 \n",
            " dropout_12 (Dropout)        (None, 64)                0         \n",
            "                                                                 \n",
            " dense_20 (Dense)            (None, 10)                650       \n",
            "                                                                 \n",
            "=================================================================\n",
            "Total params: 4,250,762\n",
            "Trainable params: 4,250,762\n",
            "Non-trainable params: 0\n",
            "_________________________________________________________________\n"
          ]
        }
      ]
    },
    {
      "cell_type": "code",
      "source": [
        "model.compile(optimizer = \"Adam\", loss = \"sparse_categorical_crossentropy\", metrics = [\"accuracy\"])"
      ],
      "metadata": {
        "id": "H4NbasRvfC-W"
      },
      "execution_count": 90,
      "outputs": []
    },
    {
      "cell_type": "code",
      "source": [
        "# Train the model for 20 epochs with batch size of 64\n",
        "results = model.fit(X_train,y_train,\n",
        "                    batch_size=64,\n",
        "                    epochs=20,\n",
        "                    validation_data=(X_val, y_val))"
      ],
      "metadata": {
        "colab": {
          "base_uri": "https://localhost:8080/"
        },
        "id": "GjfpfFJpfNDU",
        "outputId": "92f17b81-4582-43b0-ee25-f0547eab9075"
      },
      "execution_count": 91,
      "outputs": [
        {
          "output_type": "stream",
          "name": "stdout",
          "text": [
            "Epoch 1/20\n",
            "110/110 [==============================] - 5s 33ms/step - loss: 5.0947 - accuracy: 0.1825 - val_loss: 1.9893 - val_accuracy: 0.3089\n",
            "Epoch 2/20\n",
            "110/110 [==============================] - 3s 32ms/step - loss: 2.0041 - accuracy: 0.2793 - val_loss: 1.7753 - val_accuracy: 0.4062\n",
            "Epoch 3/20\n",
            "110/110 [==============================] - 3s 32ms/step - loss: 1.8766 - accuracy: 0.3436 - val_loss: 1.7248 - val_accuracy: 0.4256\n",
            "Epoch 4/20\n",
            "110/110 [==============================] - 4s 32ms/step - loss: 1.6433 - accuracy: 0.4155 - val_loss: 1.3073 - val_accuracy: 0.5549\n",
            "Epoch 5/20\n",
            "110/110 [==============================] - 4s 32ms/step - loss: 1.4105 - accuracy: 0.4880 - val_loss: 1.1555 - val_accuracy: 0.6076\n",
            "Epoch 6/20\n",
            "110/110 [==============================] - 3s 31ms/step - loss: 1.2046 - accuracy: 0.5568 - val_loss: 1.0025 - val_accuracy: 0.6522\n",
            "Epoch 7/20\n",
            "110/110 [==============================] - 3s 31ms/step - loss: 1.0596 - accuracy: 0.6120 - val_loss: 0.9333 - val_accuracy: 0.6785\n",
            "Epoch 8/20\n",
            "110/110 [==============================] - 3s 31ms/step - loss: 0.9215 - accuracy: 0.6586 - val_loss: 0.8998 - val_accuracy: 0.6922\n",
            "Epoch 9/20\n",
            "110/110 [==============================] - 4s 32ms/step - loss: 0.8044 - accuracy: 0.6989 - val_loss: 0.8516 - val_accuracy: 0.7449\n",
            "Epoch 10/20\n",
            "110/110 [==============================] - 3s 31ms/step - loss: 0.7356 - accuracy: 0.7248 - val_loss: 0.7934 - val_accuracy: 0.7529\n",
            "Epoch 11/20\n",
            "110/110 [==============================] - 4s 32ms/step - loss: 0.6717 - accuracy: 0.7470 - val_loss: 0.8493 - val_accuracy: 0.7632\n",
            "Epoch 12/20\n",
            "110/110 [==============================] - 4s 32ms/step - loss: 0.6267 - accuracy: 0.7636 - val_loss: 0.8114 - val_accuracy: 0.7597\n",
            "Epoch 13/20\n",
            "110/110 [==============================] - 4s 32ms/step - loss: 0.5721 - accuracy: 0.7810 - val_loss: 0.9051 - val_accuracy: 0.7334\n",
            "Epoch 14/20\n",
            "110/110 [==============================] - 4s 33ms/step - loss: 0.5262 - accuracy: 0.7969 - val_loss: 0.9409 - val_accuracy: 0.7677\n",
            "Epoch 15/20\n",
            "110/110 [==============================] - 3s 30ms/step - loss: 0.4833 - accuracy: 0.8133 - val_loss: 0.8826 - val_accuracy: 0.7769\n",
            "Epoch 16/20\n",
            "110/110 [==============================] - 3s 32ms/step - loss: 0.4507 - accuracy: 0.8206 - val_loss: 0.8935 - val_accuracy: 0.7769\n",
            "Epoch 17/20\n",
            "110/110 [==============================] - 3s 32ms/step - loss: 0.4259 - accuracy: 0.8348 - val_loss: 0.9019 - val_accuracy: 0.7849\n",
            "Epoch 18/20\n",
            "110/110 [==============================] - 3s 30ms/step - loss: 0.4270 - accuracy: 0.8329 - val_loss: 0.9490 - val_accuracy: 0.7895\n",
            "Epoch 19/20\n",
            "110/110 [==============================] - 3s 32ms/step - loss: 0.4069 - accuracy: 0.8419 - val_loss: 0.9147 - val_accuracy: 0.7620\n",
            "Epoch 20/20\n",
            "110/110 [==============================] - 3s 30ms/step - loss: 0.3874 - accuracy: 0.8510 - val_loss: 0.9310 - val_accuracy: 0.7677\n"
          ]
        }
      ]
    },
    {
      "cell_type": "code",
      "source": [
        "# Plot the the training loss\n",
        "plt.plot(results.history[\"loss\"],label=\"loss\")\n",
        "\n",
        "# Plot the the validation loss\n",
        "plt.plot(results.history[\"val_loss\"],label=\"val_loss\")\n",
        "\n",
        "# Name the x and y axises\n",
        "plt.xlabel=(\"Epoch\")\n",
        "plt.ylabel=(\"Loss\")\n",
        "\n",
        "# Put legend table\n",
        "plt.legend()\n",
        "\n",
        "# Show the plot\n",
        "plt.show()"
      ],
      "metadata": {
        "colab": {
          "base_uri": "https://localhost:8080/",
          "height": 265
        },
        "id": "GOkMeCkhf5Il",
        "outputId": "304e4d2a-3cee-49e6-d290-0fd1f729f5ab"
      },
      "execution_count": 92,
      "outputs": [
        {
          "output_type": "display_data",
          "data": {
            "text/plain": [
              "<Figure size 432x288 with 1 Axes>"
            ],
            "image/png": "[encoded data removed]"
          },
          "metadata": {
            "needs_background": "light"
          }
        }
      ]
    },
    {
      "cell_type": "code",
      "source": [
        "# Plot the the training accuracy\n",
        "plt.plot(results.history[\"accuracy\"],label=\"accuracy\")\n",
        "\n",
        "# Plot the the validation accuracy\n",
        "plt.plot(results.history[\"val_accuracy\"],label=\"val_accuracy\")\n",
        "\n",
        "\n",
        "# Name the x and y axises\n",
        "plt.xlabel=(\"Epoch\")\n",
        "plt.ylabel=(\"Accuracy\")\n",
        "\n",
        "# Put legend table\n",
        "plt.legend()\n",
        "\n",
        "# Show the plot\n",
        "plt.show()"
      ],
      "metadata": {
        "colab": {
          "base_uri": "https://localhost:8080/",
          "height": 265
        },
        "id": "RaQCVHm3gEx4",
        "outputId": "130b11b2-6694-4520-c9c4-8c070a365587"
      },
      "execution_count": 93,
      "outputs": [
        {
          "output_type": "display_data",
          "data": {
            "text/plain": [
              "<Figure size 432x288 with 1 Axes>"
            ],
            "image/png": "[encoded data removed]"
          },
          "metadata": {
            "needs_background": "light"
          }
        }
      ]
    },
    {
      "cell_type": "code",
      "source": [
        "# Evaluate the performance\n",
        "model.evaluate(X_test,y_test)"
      ],
      "metadata": {
        "colab": {
          "base_uri": "https://localhost:8080/"
        },
        "id": "-0WBbolngWKT",
        "outputId": "babc0570-459a-439d-fb07-109f5f9fa78a"
      },
      "execution_count": 94,
      "outputs": [
        {
          "output_type": "stream",
          "name": "stdout",
          "text": [
            "28/28 [==============================] - 0s 9ms/step - loss: 0.9204 - accuracy: 0.7755\n"
          ]
        },
        {
          "output_type": "execute_result",
          "data": {
            "text/plain": [
              "[0.9203689098358154, 0.7754868268966675]"
            ]
          },
          "metadata": {},
          "execution_count": 94
        }
      ]
    },
    {
      "cell_type": "markdown",
      "source": [
        "# Hyperparameter optimization"
      ],
      "metadata": {
        "id": "TEj7WBz6hEwP"
      }
    },
    {
      "cell_type": "markdown",
      "source": [
        "Batch_size ve epochs değerleri değiştirilmiştir."
      ],
      "metadata": {
        "id": "yykari8Ft3nY"
      }
    },
    {
      "cell_type": "code",
      "source": [
        "model_2 = tf.keras.Sequential()"
      ],
      "metadata": {
        "id": "t9r5iz7Em8-1"
      },
      "execution_count": 116,
      "outputs": []
    },
    {
      "cell_type": "code",
      "source": [
        "# Add a convolution and max pooling layer\n",
        "model_2.add(tf.keras.layers.Conv2D(64,\n",
        "                                 kernel_size = (3,3),\n",
        "                                 strides=(1,1),\n",
        "                                 padding=\"same\",\n",
        "                                 activation=\"relu\",\n",
        "                                 input_shape = (128,128,1)))\n",
        "model_2.add(tf.keras.layers.MaxPool2D((2,2)))\n",
        "\n",
        "model_2.add(tf.keras.layers.Conv2D(64,\n",
        "                                 kernel_size=(3,3),\n",
        "                                 strides=(1,1),\n",
        "                                 padding = \"same\",\n",
        "                                 activation=\"relu\"))\n",
        "model_2.add(tf.keras.layers.MaxPooling2D((2,2)))\n",
        "\n",
        "model_2.add(tf.keras.layers.Conv2D(64,\n",
        "                                 kernel_size=(3,3),\n",
        "                                 strides=(1,1),\n",
        "                                 padding = \"same\",\n",
        "                                 activation=\"relu\"))"
      ],
      "metadata": {
        "id": "g2rt7CVFnGS0"
      },
      "execution_count": 117,
      "outputs": []
    },
    {
      "cell_type": "code",
      "source": [
        "model_2.add(tf.keras.layers.Flatten())"
      ],
      "metadata": {
        "id": "QDg1GUOlnRzi"
      },
      "execution_count": 118,
      "outputs": []
    },
    {
      "cell_type": "code",
      "source": [
        "model_2.add(tf.keras.layers.Dense(64, activation = \"relu\"))\n",
        "model_2.add(tf.keras.layers.Dropout(0.5))"
      ],
      "metadata": {
        "id": "Mm9VRNktnaUR"
      },
      "execution_count": 119,
      "outputs": []
    },
    {
      "cell_type": "code",
      "source": [
        "model_2.add(tf.keras.layers.Dense(10, activation = \"softmax\"))"
      ],
      "metadata": {
        "id": "Jzxq8jY8njQ6"
      },
      "execution_count": 120,
      "outputs": []
    },
    {
      "cell_type": "code",
      "source": [
        "model_2.compile(optimizer = \"Adam\", loss = \"sparse_categorical_crossentropy\", metrics = [\"accuracy\"])"
      ],
      "metadata": {
        "id": "yBOdaOUvnoiQ"
      },
      "execution_count": 121,
      "outputs": []
    },
    {
      "cell_type": "code",
      "source": [
        "results_2 = model_2.fit(X_train, y_train, batch_size = 128, epochs = 30, validation_data = (X_val, y_val))"
      ],
      "metadata": {
        "colab": {
          "base_uri": "https://localhost:8080/"
        },
        "id": "TiNOLK_JnwT1",
        "outputId": "a9ff223a-4a95-4866-c956-dc3883783782"
      },
      "execution_count": 122,
      "outputs": [
        {
          "output_type": "stream",
          "name": "stdout",
          "text": [
            "Epoch 1/30\n",
            "55/55 [==============================] - 5s 92ms/step - loss: 3.9705 - accuracy: 0.3125 - val_loss: 1.3220 - val_accuracy: 0.5629\n",
            "Epoch 2/30\n",
            "55/55 [==============================] - 5s 89ms/step - loss: 1.3761 - accuracy: 0.5380 - val_loss: 1.0061 - val_accuracy: 0.7117\n",
            "Epoch 3/30\n",
            "55/55 [==============================] - 5s 88ms/step - loss: 1.0421 - accuracy: 0.6467 - val_loss: 0.8309 - val_accuracy: 0.7529\n",
            "Epoch 4/30\n",
            "55/55 [==============================] - 5s 89ms/step - loss: 0.8389 - accuracy: 0.7128 - val_loss: 0.7298 - val_accuracy: 0.7929\n",
            "Epoch 5/30\n",
            "55/55 [==============================] - 5s 89ms/step - loss: 0.7361 - accuracy: 0.7495 - val_loss: 0.6910 - val_accuracy: 0.7975\n",
            "Epoch 6/30\n",
            "55/55 [==============================] - 5s 90ms/step - loss: 0.6393 - accuracy: 0.7775 - val_loss: 0.6714 - val_accuracy: 0.8158\n",
            "Epoch 7/30\n",
            "55/55 [==============================] - 5s 90ms/step - loss: 0.5476 - accuracy: 0.8092 - val_loss: 0.6883 - val_accuracy: 0.8032\n",
            "Epoch 8/30\n",
            "55/55 [==============================] - 5s 90ms/step - loss: 0.4797 - accuracy: 0.8278 - val_loss: 0.6232 - val_accuracy: 0.8146\n",
            "Epoch 9/30\n",
            "55/55 [==============================] - 5s 89ms/step - loss: 0.4350 - accuracy: 0.8477 - val_loss: 0.6926 - val_accuracy: 0.8158\n",
            "Epoch 10/30\n",
            "55/55 [==============================] - 5s 89ms/step - loss: 0.3969 - accuracy: 0.8587 - val_loss: 0.6433 - val_accuracy: 0.8284\n",
            "Epoch 11/30\n",
            "55/55 [==============================] - 5s 89ms/step - loss: 0.3557 - accuracy: 0.8792 - val_loss: 0.6669 - val_accuracy: 0.8146\n",
            "Epoch 12/30\n",
            "55/55 [==============================] - 5s 88ms/step - loss: 0.3368 - accuracy: 0.8780 - val_loss: 0.6830 - val_accuracy: 0.8284\n",
            "Epoch 13/30\n",
            "55/55 [==============================] - 5s 88ms/step - loss: 0.3079 - accuracy: 0.8885 - val_loss: 0.7794 - val_accuracy: 0.8101\n",
            "Epoch 14/30\n",
            "55/55 [==============================] - 5s 88ms/step - loss: 0.3064 - accuracy: 0.8892 - val_loss: 0.6880 - val_accuracy: 0.8272\n",
            "Epoch 15/30\n",
            "55/55 [==============================] - 5s 88ms/step - loss: 0.2830 - accuracy: 0.8996 - val_loss: 0.7138 - val_accuracy: 0.8410\n",
            "Epoch 16/30\n",
            "55/55 [==============================] - 5s 88ms/step - loss: 0.2694 - accuracy: 0.9024 - val_loss: 0.7214 - val_accuracy: 0.8330\n",
            "Epoch 17/30\n",
            "55/55 [==============================] - 5s 88ms/step - loss: 0.2621 - accuracy: 0.9085 - val_loss: 0.8052 - val_accuracy: 0.8215\n",
            "Epoch 18/30\n",
            "55/55 [==============================] - 5s 88ms/step - loss: 0.2423 - accuracy: 0.9110 - val_loss: 0.8648 - val_accuracy: 0.8089\n",
            "Epoch 19/30\n",
            "55/55 [==============================] - 5s 90ms/step - loss: 0.2429 - accuracy: 0.9120 - val_loss: 0.8066 - val_accuracy: 0.8227\n",
            "Epoch 20/30\n",
            "55/55 [==============================] - 5s 89ms/step - loss: 0.2281 - accuracy: 0.9185 - val_loss: 0.7963 - val_accuracy: 0.8181\n",
            "Epoch 21/30\n",
            "55/55 [==============================] - 5s 90ms/step - loss: 0.2056 - accuracy: 0.9247 - val_loss: 0.9234 - val_accuracy: 0.8043\n",
            "Epoch 22/30\n",
            "55/55 [==============================] - 5s 89ms/step - loss: 0.2101 - accuracy: 0.9254 - val_loss: 0.9156 - val_accuracy: 0.8158\n",
            "Epoch 23/30\n",
            "55/55 [==============================] - 5s 89ms/step - loss: 0.2218 - accuracy: 0.9207 - val_loss: 0.8493 - val_accuracy: 0.8272\n",
            "Epoch 24/30\n",
            "55/55 [==============================] - 5s 89ms/step - loss: 0.2076 - accuracy: 0.9251 - val_loss: 0.8503 - val_accuracy: 0.8021\n",
            "Epoch 25/30\n",
            "55/55 [==============================] - 5s 89ms/step - loss: 0.2015 - accuracy: 0.9298 - val_loss: 0.8673 - val_accuracy: 0.8272\n",
            "Epoch 26/30\n",
            "55/55 [==============================] - 5s 89ms/step - loss: 0.2030 - accuracy: 0.9258 - val_loss: 0.8220 - val_accuracy: 0.8284\n",
            "Epoch 27/30\n",
            "55/55 [==============================] - 5s 89ms/step - loss: 0.1717 - accuracy: 0.9369 - val_loss: 0.8663 - val_accuracy: 0.8227\n",
            "Epoch 28/30\n",
            "55/55 [==============================] - 5s 89ms/step - loss: 0.1806 - accuracy: 0.9367 - val_loss: 0.9693 - val_accuracy: 0.8261\n",
            "Epoch 29/30\n",
            "55/55 [==============================] - 5s 88ms/step - loss: 0.1678 - accuracy: 0.9403 - val_loss: 1.0269 - val_accuracy: 0.8169\n",
            "Epoch 30/30\n",
            "55/55 [==============================] - 5s 88ms/step - loss: 0.1762 - accuracy: 0.9374 - val_loss: 1.0091 - val_accuracy: 0.8192\n"
          ]
        }
      ]
    },
    {
      "cell_type": "code",
      "source": [
        "# Plot the the training loss\n",
        "plt.plot(results_2.history[\"loss\"],label=\"loss\")\n",
        "\n",
        "# Plot the the validation loss\n",
        "plt.plot(results_2.history[\"val_loss\"],label=\"val_loss\")\n",
        "\n",
        "# Name the x and y axises\n",
        "plt.xlabel=(\"Epoch\")\n",
        "plt.ylabel=(\"Loss\")\n",
        "\n",
        "# Put legend table\n",
        "plt.legend()\n",
        "\n",
        "# Show the plot\n",
        "plt.show()"
      ],
      "metadata": {
        "colab": {
          "base_uri": "https://localhost:8080/",
          "height": 265
        },
        "id": "7rZl7fiIp3SI",
        "outputId": "bb54df8d-6274-4acb-c916-8a0f53c21060"
      },
      "execution_count": 123,
      "outputs": [
        {
          "output_type": "display_data",
          "data": {
            "text/plain": [
              "<Figure size 432x288 with 1 Axes>"
            ],
            "image/png": "[encoded data removed]"
          },
          "metadata": {
            "needs_background": "light"
          }
        }
      ]
    },
    {
      "cell_type": "code",
      "source": [
        "# Plot the the training accuracy\n",
        "plt.plot(results_2.history[\"accuracy\"],label=\"accuracy\")\n",
        "\n",
        "# Plot the the validation accuracy\n",
        "plt.plot(results_2.history[\"val_accuracy\"],label=\"val_accuracy\")\n",
        "\n",
        "\n",
        "# Name the x and y axises\n",
        "plt.xlabel=(\"Epoch\")\n",
        "plt.ylabel=(\"Accuracy\")\n",
        "\n",
        "# Put legend table\n",
        "plt.legend()\n",
        "\n",
        "# Show the plot\n",
        "plt.show()"
      ],
      "metadata": {
        "colab": {
          "base_uri": "https://localhost:8080/",
          "height": 265
        },
        "id": "uffgNBYhp-Rv",
        "outputId": "37e6c004-f3ef-4ee8-d64b-2407671906f9"
      },
      "execution_count": 124,
      "outputs": [
        {
          "output_type": "display_data",
          "data": {
            "text/plain": [
              "<Figure size 432x288 with 1 Axes>"
            ],
            "image/png": "[encoded data removed]"
          },
          "metadata": {
            "needs_background": "light"
          }
        }
      ]
    },
    {
      "cell_type": "code",
      "source": [
        "# Evaluate the performance\n",
        "model_2.evaluate(X_test,y_test)"
      ],
      "metadata": {
        "colab": {
          "base_uri": "https://localhost:8080/"
        },
        "id": "8l7gCGAlqKKR",
        "outputId": "587ab62e-fadc-41ec-9fca-d6fda553ec52"
      },
      "execution_count": 125,
      "outputs": [
        {
          "output_type": "stream",
          "name": "stdout",
          "text": [
            "28/28 [==============================] - 0s 13ms/step - loss: 0.9316 - accuracy: 0.8213\n"
          ]
        },
        {
          "output_type": "execute_result",
          "data": {
            "text/plain": [
              "[0.9315868020057678, 0.8213058710098267]"
            ]
          },
          "metadata": {},
          "execution_count": 125
        }
      ]
    }
  ]
}