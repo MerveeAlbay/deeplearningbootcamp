{
  "nbformat": 4,
  "nbformat_minor": 0,
  "metadata": {
    "colab": {
      "provenance": []
    },
    "kernelspec": {
      "name": "python3",
      "display_name": "Python 3"
    },
    "language_info": {
      "name": "python"
    },
    "accelerator": "GPU"
  },
  "cells": [
    {
      "cell_type": "code",
      "execution_count": 2,
      "metadata": {
        "id": "T-Ddvl1tuYU6"
      },
      "outputs": [],
      "source": [
        "import numpy as np\n",
        "import matplotlib.pyplot as plt\n",
        "import cv2\n",
        "from sklearn.model_selection import train_test_split\n",
        "import os"
      ]
    },
    {
      "cell_type": "code",
      "source": [
        "#Hazır spectogramlar kullanılmıştır.\n",
        "datadir =\"/content/drive/MyDrive/spectrograms\"\n",
        "categories = [\"0\",\"1\",\"2\",\"3\",\"4\",\"5\",\"6\",\"7\",\"8\",\"9\"]"
      ],
      "metadata": {
        "id": "auPXAoQwuia2"
      },
      "execution_count": 3,
      "outputs": []
    },
    {
      "cell_type": "code",
      "source": [
        "#Spectogramları sırasıyla okuyarak, grayscale dönüşümü, resizing ve normalizasyon yapılması.\n",
        "training_data = []\n",
        "def create_training_data():\n",
        "    for category in categories:\n",
        "        path = os.path.join(datadir, category)\n",
        "        class_num = categories.index(category)\n",
        "        for img in os.listdir(path):\n",
        "          try:\n",
        "            img_array = cv2.imread(os.path.join(path,img), cv2.IMREAD_GRAYSCALE)\n",
        "            new_array = cv2.resize(img_array, (128, 128))\n",
        "            normalized_img = cv2.normalize(new_array, new_array, 0, 255, cv2.NORM_MINMAX)\n",
        "            training_data.append([normalized_img, class_num])\n",
        "          except Exception as e:\n",
        "            pass\n",
        "    \n",
        "create_training_data()"
      ],
      "metadata": {
        "id": "7kF1vueaulCY"
      },
      "execution_count": 4,
      "outputs": []
    },
    {
      "cell_type": "code",
      "source": [
        "print(len(training_data))"
      ],
      "metadata": {
        "colab": {
          "base_uri": "https://localhost:8080/"
        },
        "id": "TDbwfaj3v9eA",
        "outputId": "87e1aa76-2c69-4fad-95e1-fc341cbfcbaf"
      },
      "execution_count": 5,
      "outputs": [
        {
          "output_type": "stream",
          "name": "stdout",
          "text": [
            "8732\n"
          ]
        }
      ]
    },
    {
      "cell_type": "code",
      "source": [
        "#Verileri karıştırdık.\n",
        "import random\n",
        "random.shuffle(training_data)"
      ],
      "metadata": {
        "id": "QT0rZWQawAZt"
      },
      "execution_count": 6,
      "outputs": []
    },
    {
      "cell_type": "code",
      "source": [
        "#Görüntülerin [görüntü, etiket] formatına getirilmesi.\n",
        "X = []\n",
        "y = []\n",
        "for features, label in training_data:\n",
        "    X.append(features)\n",
        "    y.append(label)\n",
        "X = np.array(X).reshape(-1, 128, 128, 1)\n",
        "y = np.array(y)"
      ],
      "metadata": {
        "id": "eZ9boaJswEvq"
      },
      "execution_count": 7,
      "outputs": []
    },
    {
      "cell_type": "code",
      "source": [
        "np.save(\"/content/drive/MyDrive/verisetleri/features\", X)\n",
        "np.save(\"/content/drive/MyDrive/verisetleri/labels\", y)"
      ],
      "metadata": {
        "id": "ukZX0o-6waz6"
      },
      "execution_count": 8,
      "outputs": []
    },
    {
      "cell_type": "code",
      "source": [
        "#X_train, y_train, X_val, y_val, X_test ve y_test veri setlerinin oluşturulması.\n",
        "#Verileri daha önce karıştırdığımız için shuffle=False yaptık.\n",
        "\n",
        "X_train, X_test, y_train, y_test = train_test_split(X, y, train_size = 0.8, shuffle=False)\n",
        "X_test, X_val, y_test, y_val = train_test_split(X_test, y_test, train_size = 0.5, shuffle=False)"
      ],
      "metadata": {
        "id": "qXcqtwcyweOS"
      },
      "execution_count": 9,
      "outputs": []
    },
    {
      "cell_type": "code",
      "source": [
        "print(f\"X_train: {len(X_train)}\")\n",
        "print(f\"X_test: {len(X_test)}\")\n",
        "print(f\"X_val: {len(X_val)}\")\n",
        "print(f\"y_train: {len(y_train)}\")\n",
        "print(f\"y_test: {len(y_test)}\")\n",
        "print(f\"y_val: {len(y_val)}\")"
      ],
      "metadata": {
        "colab": {
          "base_uri": "https://localhost:8080/"
        },
        "id": "dChv3pm-wh25",
        "outputId": "f3652f97-c468-46e2-b674-ab67743f74fa"
      },
      "execution_count": 10,
      "outputs": [
        {
          "output_type": "stream",
          "name": "stdout",
          "text": [
            "X_train: 6985\n",
            "X_test: 873\n",
            "X_val: 874\n",
            "y_train: 6985\n",
            "y_test: 873\n",
            "y_val: 874\n"
          ]
        }
      ]
    },
    {
      "cell_type": "code",
      "source": [
        "#Veri setlerini kaydettik.\n",
        "np.save(\"/content/drive/MyDrive/verisetleri/X_train\", X_train)\n",
        "np.save(\"/content/drive/MyDrive/verisetleri/X_test\", X_test)\n",
        "np.save(\"/content/drive/MyDrive/verisetleri/X_val\", X_val)\n",
        "np.save(\"/content/drive/MyDrive/verisetleri/y_train\", y_train)\n",
        "np.save(\"/content/drive/MyDrive/verisetleri/y_test\", y_test)\n",
        "np.save(\"/content/drive/MyDrive/verisetleri/y_val\", y_val)"
      ],
      "metadata": {
        "id": "TSNU7_r0wlIC"
      },
      "execution_count": 11,
      "outputs": []
    }
  ]
}